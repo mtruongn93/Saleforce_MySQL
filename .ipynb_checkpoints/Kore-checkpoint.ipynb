{
 "cells": [
  {
   "cell_type": "code",
   "execution_count": null,
   "id": "180286c4",
   "metadata": {},
   "outputs": [],
   "source": [
    "import configparser\n",
    "import requests\n",
    "import pandas as pd\n",
    "import os\n",
    "import logging\n",
    "import sys\n",
    "\n",
    "from sqlalchemy import create_engine, MetaData, Table\n",
    "from datetime import datetime\n",
    "from fuzzywuzzy import fuzz, process"
   ]
  },
  {
   "cell_type": "code",
   "execution_count": null,
   "id": "5bbbc376",
   "metadata": {},
   "outputs": [],
   "source": [
    "# Set up logging configuration\n",
    "today = datetime.today().strftime('%Y-%m-%d')\n",
    "logging.basicConfig(filename=f'config/{today}.log', level=logging.INFO, \n",
    "                    format='%(asctime)s:%(levelname)s:%(message)s')\n"
   ]
  },
  {
   "cell_type": "code",
   "execution_count": null,
   "id": "29833c00",
   "metadata": {},
   "outputs": [],
   "source": [
    "# read credential config file\n",
    "config = configparser.ConfigParser()\n",
    "config.read('config/credential.ini')\n",
    "if len(config.read('config/credential.ini')) == 0:\n",
    "    logging.error(\"No Credential\")\n",
    "    sys.exit(1)\n",
    "else:\n",
    "    logging.info(\"Credential obtained\")"
   ]
  },
  {
   "cell_type": "code",
   "execution_count": null,
   "id": "a2f0e415",
   "metadata": {},
   "outputs": [],
   "source": [
    "# Saleforce\n",
    "url = 'https://login.salesforce.com/services/oauth2/token'\n",
    "\n",
    "payload = {\n",
    "    'grant_type': 'password',\n",
    "    'client_id': config['Salesforce']['client_id'],\n",
    "    'client_secret': config['Salesforce']['client_secret'],\n",
    "    'username': config['Salesforce']['username'],\n",
    "    'password': config['Salesforce']['password']\n",
    "}\n",
    "\n",
    "headers = {\n",
    "    'Content-Type': 'application/x-www-form-urlencoded',\n",
    "    'Accept': 'application/json'\n",
    "}\n",
    "\n",
    "response = requests.post(url, data=payload, headers=headers)\n",
    "\n",
    "if response.status_code == 200:\n",
    "    access_token = response.json()['access_token']\n",
    "    logging.info(\"Saleforce Access Token obtained\")\n",
    "else:\n",
    "    logging.exception(f\"Error {response.status_code}: {response.text}\")\n",
    "    sys.exit(1)\n"
   ]
  },
  {
   "cell_type": "code",
   "execution_count": null,
   "id": "a85a4329",
   "metadata": {},
   "outputs": [],
   "source": [
    "host = config['MySQL']['host']\n",
    "database = config['MySQL']['database']\n",
    "user = config['MySQL']['user']\n",
    "password = config['MySQL']['password']\n",
    "url = f\"mysql+pymysql://{user}:{password}@{host}/{database}\"\n",
    "\n",
    "# Create an SQLAlchemy engine object\n",
    "try:\n",
    "    engine = create_engine(url)\n",
    "    logging.info(\"Open MySQL connection\")\n",
    "except:\n",
    "    logging.exception(\"Unable to connect to MySQL database\")\n",
    "    sys.exit(1)\n",
    "    \n",
    "# Create a SQLAlchemy metadata object and bind it to the engine\n",
    "metadata = MetaData(bind=engine)\n",
    "\n",
    "# Reflect the table structure from the database\n",
    "table = Table('Contacts', metadata, autoload=True)\n",
    "\n",
    "# Get the list of column names\n",
    "column_names_mysql = [column.name for column in table.columns]"
   ]
  },
  {
   "cell_type": "code",
   "execution_count": null,
   "id": "bd0ed41e",
   "metadata": {},
   "outputs": [],
   "source": [
    "json_res = response.json()\n",
    "instance_url = json_res['instance_url']\n",
    "\n",
    "headers = {\n",
    "    'Authorization': f'Bearer {access_token}',\n",
    "    'Content-Type': 'application/json'\n",
    "}\n",
    "\n",
    "# Get the column names\n",
    "contact_describe_url = instance_url + '/services/data/v51.0/sobjects/Contact/describe/'\n",
    "response_describe = requests.get(contact_describe_url, headers=headers)\n",
    "column_names_saleforce = [field['name'] for field in response_describe.json()['fields']]\n"
   ]
  },
  {
   "cell_type": "code",
   "execution_count": null,
   "id": "fe453172",
   "metadata": {},
   "outputs": [],
   "source": [
    "threshold = 50\n",
    "corresponding_columns = []\n",
    "for string in column_names_mysql:\n",
    "    matches = process.extract(string, column_names_saleforce, scorer=fuzz.token_sort_ratio)\n",
    "    best_match, score = max(matches, key=lambda x: x[1])\n",
    "    if score >= threshold:\n",
    "        print(f\"'{string}' matches '{best_match}' with score {score}\")\n",
    "        corresponding_columns.append(best_match)\n",
    "    else:\n",
    "        print(f\"'{string}' does not have a good match\")\n",
    "        corresponding_columns.append('')"
   ]
  },
  {
   "cell_type": "code",
   "execution_count": null,
   "id": "023b75f4",
   "metadata": {},
   "outputs": [],
   "source": [
    "# Even though OtherStreet, OtherCity, .... are chosen here. MailingStreet, MailingCity, ... seems to be more accurate\n",
    "# Also, fuzzy lookup is unable to find a corresponding column for suffix, I take a look and decided to choose Salutation\n",
    "corresponding_columns = [i.replace('Other', 'Mailing') for i in corresponding_columns]\n",
    "corresponding_columns = ['Salutation' if i == '' else i for i in corresponding_columns ]"
   ]
  },
  {
   "cell_type": "code",
   "execution_count": null,
   "id": "284830e4",
   "metadata": {},
   "outputs": [],
   "source": [
    "# Query the Contact Salesforce API (only get data with DoNotCall = False and Email is not null)\n",
    "all_col = ','.join(corresponding_columns)\n",
    "contact_query_url = instance_url + f'/services/data/v51.0/query?q=SELECT+{all_col}+FROM+contact+WHERE+DoNotCall=False+AND+Email!=NULL'\n",
    "response_query = requests.get(contact_query_url, headers=headers)"
   ]
  },
  {
   "cell_type": "code",
   "execution_count": null,
   "id": "cfe29598",
   "metadata": {},
   "outputs": [],
   "source": [
    "# Create a pandas DataFrame from the JSON data\n",
    "json_output = response_query.json()[\"records\"]\n",
    "df = pd.json_normalize(json_output)\n",
    "df = df[corresponding_columns]"
   ]
  },
  {
   "cell_type": "code",
   "execution_count": null,
   "id": "32124c50",
   "metadata": {},
   "outputs": [],
   "source": [
    "# getting all columns having the word 'Mailing'\n",
    "mailing_col = [i for i in corresponding_columns if \"Mailing\" in i and \"Street\" not in i]"
   ]
  },
  {
   "cell_type": "code",
   "execution_count": null,
   "id": "61b92575",
   "metadata": {},
   "outputs": [],
   "source": [
    "# There are cases which MailingStreet also contains city, state, zip cod and country.\n",
    "# We are going to use regular expression to populate them to other columns\n",
    "city_regex = '(?<=\\\\n)(\\w+\\s*\\w*),'\n",
    "state_regex = '(?<=\\, )(\\w+)'\n",
    "zip_regex = '(\\d+)(?=\\\\n)'\n",
    "country_regex = '(?<=\\\\n)(\\w+\\s*\\w+)$'\n",
    "all_regex = [city_regex, state_regex, zip_regex, country_regex]\n",
    "\n",
    "for col, regex in zip(mailing_col,all_regex):\n",
    "    df[col] = df[col].fillna(df[\"MailingStreet\"].str.extract(regex)[0].str.strip())"
   ]
  },
  {
   "cell_type": "code",
   "execution_count": null,
   "id": "5eba5b38",
   "metadata": {},
   "outputs": [],
   "source": [
    "# Replace string in MailingStreet so it will only contain the street\n",
    "for col in mailing_col:\n",
    "    df[\"MailingStreet\"]= [x.replace(str(y), '').replace('\\n', '').replace(',', '') \\\n",
    "                          if x is not None else None for x, y  in df[['MailingStreet',col]].to_numpy()]"
   ]
  },
  {
   "cell_type": "code",
   "execution_count": null,
   "id": "793bb42f",
   "metadata": {},
   "outputs": [],
   "source": [
    "# Remove duplicate rows having same email (remove the one having no emails)\n",
    "df = df.sort_values(by='Phone').drop_duplicates(subset=['Email'], keep='first').reset_index().drop('index', axis = 1)"
   ]
  },
  {
   "cell_type": "code",
   "execution_count": null,
   "id": "66f75c78",
   "metadata": {},
   "outputs": [],
   "source": [
    "# Assume all phone number is 10 digits. Remove all characters, space and then take the last 10 digits\n",
    "df.Phone = [i.replace(' ','-').replace('(','').replace(')','').replace('-','')[-10:] for i in df.Phone]"
   ]
  },
  {
   "cell_type": "code",
   "execution_count": null,
   "id": "882449ae",
   "metadata": {},
   "outputs": [],
   "source": [
    "# Test if phone only contains number. If not export that rows to a csv file\n",
    "test_phone = df[~df.Phone.str.isnumeric()]\n",
    "df = df[df.Phone.str.isnumeric()]\n",
    "\n",
    "if len(test_phone) > 0:\n",
    "    test_phone[\"Error\"] = \"Wrong Phone\"\n",
    "    logging.error(f\"Wrong Phone in error/{today}.csv\")\n",
    "    if not os.path.isfile(f'error/{today}.csv'):\n",
    "        test_phone.to_csv(f'error/{today}.csv', index = False)\n",
    "    else:\n",
    "        test_phone.to_csv(f'error/{today}.csv', mode='a', header=False, index = False)"
   ]
  },
  {
   "cell_type": "code",
   "execution_count": null,
   "id": "4c9d3d89",
   "metadata": {},
   "outputs": [],
   "source": [
    "# Check if the 'email' column follows the regex pattern. If not export that rows to a csv file\n",
    "pattern = r'^[\\w\\.-]+@([\\w-]+\\.)+[\\w-]{2,4}$'\n",
    "is_valid = df['Email'].str.match(pattern)\n",
    "\n",
    "test_email = df[~is_valid]\n",
    "df = df[is_valid]\n",
    "if len(test_email) > 0:\n",
    "    test_email[\"Error\"] = \"Wrong Email\"\n",
    "    logging.error(f\"Wrong Email in error/{today}.csv\")\n",
    "    if not os.path.isfile(f'error/{today}.csv'):\n",
    "        test_email.to_csv(f'error/{today}.csv', index = False)\n",
    "    else:\n",
    "        test_email.to_csv(f'error/{today}.csv', mode='a', header=False, index = False)"
   ]
  },
  {
   "cell_type": "code",
   "execution_count": null,
   "id": "fd177f30",
   "metadata": {},
   "outputs": [],
   "source": [
    "# There are a few countries having full name instead of abbrevation, we will need to change them\n",
    "print(set(df[\"MailingCountry\"]))\n",
    "replacements = {\n",
    "    'Singapore': 'SG',\n",
    "    'France': 'FR',\n",
    "    'USA': 'US',\n",
    "    'United States': 'US',\n",
    "    'United Kingdom' : 'GB'\n",
    "}\n",
    "\n",
    "df['MailingCountry'] = df['MailingCountry'].replace(replacements)\n",
    "logging.info(\"Data preprocessed\")"
   ]
  },
  {
   "cell_type": "code",
   "execution_count": null,
   "id": "8216db6f",
   "metadata": {},
   "outputs": [],
   "source": [
    "# Before inserting into MySQL database, we need to check all conditions\n",
    "# check if all emails are unique\n",
    "# check if there is any rows having no email\n",
    "# check if any rows having DoNotCall != False\n",
    "if len(set(df[\"Email\"])) == len(df) and df.Email.isnull().sum() == 0 and len(df[df[\"DoNotCall\"] != False]) == 0: \n",
    "    col_dict = {old_name: new_name for old_name, new_name in zip(df.columns, column_names_mysql)}\n",
    "    df = df.rename(columns=col_dict)\n",
    "    logging.info(\"All conditions checked\")\n",
    "    logging.info(\"Inserting to MySQL database\")\n",
    "    df.to_sql(name='Contacts', con=engine, if_exists='append', index=False)\n",
    "    logging.info(\"Inserted\")"
   ]
  },
  {
   "cell_type": "code",
   "execution_count": null,
   "id": "3b9097a9",
   "metadata": {},
   "outputs": [],
   "source": [
    "# Aware of State having number in string"
   ]
  }
 ],
 "metadata": {
  "kernelspec": {
   "display_name": "Python 3 (ipykernel)",
   "language": "python",
   "name": "python3"
  },
  "language_info": {
   "codemirror_mode": {
    "name": "ipython",
    "version": 3
   },
   "file_extension": ".py",
   "mimetype": "text/x-python",
   "name": "python",
   "nbconvert_exporter": "python",
   "pygments_lexer": "ipython3",
   "version": "3.9.13"
  }
 },
 "nbformat": 4,
 "nbformat_minor": 5
}
